{
  "nbformat": 4,
  "nbformat_minor": 0,
  "metadata": {
    "colab": {
      "name": "Tweets_Crawler.ipynb",
      "provenance": [],
      "collapsed_sections": [],
      "authorship_tag": "ABX9TyMZ/4B6Hluxs5/7oY7PqsQb",
      "include_colab_link": true
    },
    "kernelspec": {
      "name": "python3",
      "display_name": "Python 3"
    },
    "language_info": {
      "name": "python"
    }
  },
  "cells": [
    {
      "cell_type": "markdown",
      "metadata": {
        "id": "view-in-github",
        "colab_type": "text"
      },
      "source": [
        "<a href=\"https://colab.research.google.com/github/siyuduan6/safedrivechicago/blob/master/Tweets_Crawler.ipynb\" target=\"_parent\"><img src=\"https://colab.research.google.com/assets/colab-badge.svg\" alt=\"Open In Colab\"/></a>"
      ]
    },
    {
      "cell_type": "code",
      "metadata": {
        "colab": {
          "base_uri": "https://localhost:8080/"
        },
        "id": "9ZbLq9DTiqTB",
        "outputId": "7746dd85-3597-44a4-aa5c-a4a0c01a82a6"
      },
      "source": [
        "! pip install Scweet==1.6"
      ],
      "execution_count": null,
      "outputs": [
        {
          "output_type": "stream",
          "name": "stdout",
          "text": [
            "Collecting Scweet==1.6\n",
            "  Downloading Scweet-1.6-py3-none-any.whl (13 kB)\n",
            "Requirement already satisfied: urllib3 in /usr/local/lib/python3.7/dist-packages (from Scweet==1.6) (1.24.3)\n",
            "Collecting python-dotenv\n",
            "  Downloading python_dotenv-0.19.0-py2.py3-none-any.whl (17 kB)\n",
            "Collecting selenium\n",
            "  Downloading selenium-3.141.0-py2.py3-none-any.whl (904 kB)\n",
            "\u001b[K     |████████████████████████████████| 904 kB 3.6 MB/s \n",
            "\u001b[?25hRequirement already satisfied: pandas in /usr/local/lib/python3.7/dist-packages (from Scweet==1.6) (1.1.5)\n",
            "Collecting chromedriver-autoinstaller\n",
            "  Downloading chromedriver_autoinstaller-0.2.2-py3-none-any.whl (5.9 kB)\n",
            "Requirement already satisfied: python-dateutil>=2.7.3 in /usr/local/lib/python3.7/dist-packages (from pandas->Scweet==1.6) (2.8.2)\n",
            "Requirement already satisfied: pytz>=2017.2 in /usr/local/lib/python3.7/dist-packages (from pandas->Scweet==1.6) (2018.9)\n",
            "Requirement already satisfied: numpy>=1.15.4 in /usr/local/lib/python3.7/dist-packages (from pandas->Scweet==1.6) (1.19.5)\n",
            "Requirement already satisfied: six>=1.5 in /usr/local/lib/python3.7/dist-packages (from python-dateutil>=2.7.3->pandas->Scweet==1.6) (1.15.0)\n",
            "Installing collected packages: selenium, python-dotenv, chromedriver-autoinstaller, Scweet\n",
            "Successfully installed Scweet-1.6 chromedriver-autoinstaller-0.2.2 python-dotenv-0.19.0 selenium-3.141.0\n"
          ]
        }
      ]
    },
    {
      "cell_type": "code",
      "metadata": {
        "id": "G3SjVta_Zc4d"
      },
      "source": [
        "from Scweet.scweet import scrape"
      ],
      "execution_count": null,
      "outputs": []
    },
    {
      "cell_type": "code",
      "metadata": {
        "id": "t47jGTkvi3Ee"
      },
      "source": [
        "# Collect Tweets refer to Calibrating Human Attention as Indicator Monitoring #drought in the Twittersphere https://journals.ametsoc.org/view/journals/bams/101/10/bamsD190342.xml\n",
        "# https://github.com/Altimis/Scweet\n"
      ],
      "execution_count": null,
      "outputs": []
    },
    {
      "cell_type": "code",
      "metadata": {
        "id": "LuybX40U6Dla"
      },
      "source": [
        "data = scrape(hashtag=\"drought\", since=\"2017-01-01\", until=None, from_account = None, interval=1, \n",
        "              headless=True, display_type=\"Top\", save_images=True)"
      ],
      "execution_count": null,
      "outputs": []
    },
    {
      "cell_type": "code",
      "metadata": {
        "id": "47stI-MIBozQ"
      },
      "source": [
        "cdata = scrape(hashtag=\"cadrought\", since=\"2017-01-01\", until=None, from_account = None, interval=1, \n",
        "              headless=True, display_type=\"Top\", save_images=True)"
      ],
      "execution_count": null,
      "outputs": []
    }
  ]
}
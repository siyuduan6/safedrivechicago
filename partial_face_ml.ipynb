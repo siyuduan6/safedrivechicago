{
  "nbformat": 4,
  "nbformat_minor": 0,
  "metadata": {
    "colab": {
      "name": "partial_face_ml.ipynb",
      "provenance": [],
      "collapsed_sections": [],
      "toc_visible": true,
      "authorship_tag": "ABX9TyPRLpoB+gLzWxy/r7UpUZHN",
      "include_colab_link": true
    },
    "kernelspec": {
      "name": "python3",
      "display_name": "Python 3"
    },
    "language_info": {
      "name": "python"
    }
  },
  "cells": [
    {
      "cell_type": "markdown",
      "metadata": {
        "id": "view-in-github",
        "colab_type": "text"
      },
      "source": [
        "<a href=\"https://colab.research.google.com/github/siyuduan6/safedrivechicago/blob/master/partial_face_ml.ipynb\" target=\"_parent\"><img src=\"https://colab.research.google.com/assets/colab-badge.svg\" alt=\"Open In Colab\"/></a>"
      ]
    },
    {
      "cell_type": "code",
      "metadata": {
        "id": "LzjKj81YTPn_"
      },
      "source": [
        "import pandas as pd\n",
        "import numpy as np\n",
        "from sklearn.model_selection import train_test_split\n",
        "\n",
        "from sklearn.linear_model import LogisticRegression     # 线性模型中的 Logistic 回归模型\n",
        "from sklearn.neural_network import MLPClassifier        # 神经网络模型中的多层网络模型\n",
        "from sklearn.svm import LinearSVC                       # SVM 模型中的线性 SVC 模型\n",
        "from sklearn.linear_model import SGDClassifier          # 线性模型中的随机梯度下降模型\n",
        "from sklearn.linear_model import Ridge              #线性模型中的Ridge模型\n",
        "from sklearn.multioutput import MultiOutputRegressor"
      ],
      "execution_count": 1,
      "outputs": []
    },
    {
      "cell_type": "code",
      "metadata": {
        "id": "fDSu8rVFTZ6I"
      },
      "source": [
        "# ds = pd.read_csv(\"https://raw.githubusercontent.com/arxrean/PartialFace/main/repo/celeba.csv?token=ARVBZLPD3PTRNCDNIWRUHD3BFF73W\")"
      ],
      "execution_count": 3,
      "outputs": []
    },
    {
      "cell_type": "code",
      "metadata": {
        "colab": {
          "base_uri": "https://localhost:8080/",
          "height": 585
        },
        "id": "42krx8vvTfp8",
        "outputId": "801d66b9-c003-4d55-958c-74ebafb81b72"
      },
      "source": [
        "# ds"
      ],
      "execution_count": 4,
      "outputs": [
        {
          "output_type": "execute_result",
          "data": {
            "text/html": [
              "<div>\n",
              "<style scoped>\n",
              "    .dataframe tbody tr th:only-of-type {\n",
              "        vertical-align: middle;\n",
              "    }\n",
              "\n",
              "    .dataframe tbody tr th {\n",
              "        vertical-align: top;\n",
              "    }\n",
              "\n",
              "    .dataframe thead th {\n",
              "        text-align: right;\n",
              "    }\n",
              "</style>\n",
              "<table border=\"1\" class=\"dataframe\">\n",
              "  <thead>\n",
              "    <tr style=\"text-align: right;\">\n",
              "      <th></th>\n",
              "      <th>id</th>\n",
              "      <th>identity</th>\n",
              "      <th>path</th>\n",
              "      <th>lm68</th>\n",
              "      <th>identity_idx</th>\n",
              "      <th>left_eye</th>\n",
              "      <th>right_eye</th>\n",
              "      <th>nose</th>\n",
              "      <th>mouth</th>\n",
              "    </tr>\n",
              "  </thead>\n",
              "  <tbody>\n",
              "    <tr>\n",
              "      <th>0</th>\n",
              "      <td>000024.jpg</td>\n",
              "      <td>9290</td>\n",
              "      <td>./celeba/0/000024.jpg</td>\n",
              "      <td>[[48, 118], [48, 128], [49, 139], [51, 149], [...</td>\n",
              "      <td>0</td>\n",
              "      <td>[48, 93, 85, 120]</td>\n",
              "      <td>[85, 94, 134, 133]</td>\n",
              "      <td>[78, 107, 99, 131]</td>\n",
              "      <td>[71, 131, 104, 179]</td>\n",
              "    </tr>\n",
              "    <tr>\n",
              "      <th>1</th>\n",
              "      <td>000041.jpg</td>\n",
              "      <td>1058</td>\n",
              "      <td>./celeba/0/000041.jpg</td>\n",
              "      <td>[[66, 111], [63, 123], [61, 135], [62, 147], [...</td>\n",
              "      <td>1</td>\n",
              "      <td>[65, 90, 66, 142]</td>\n",
              "      <td>[65, 97, 166, 142]</td>\n",
              "      <td>[71, 109, 95, 152]</td>\n",
              "      <td>[66, 152, 105, 202]</td>\n",
              "    </tr>\n",
              "    <tr>\n",
              "      <th>2</th>\n",
              "      <td>000043.jpg</td>\n",
              "      <td>5239</td>\n",
              "      <td>./celeba/0/000043.jpg</td>\n",
              "      <td>[[41, 112], [43, 125], [45, 137], [47, 150], [...</td>\n",
              "      <td>2</td>\n",
              "      <td>[41, 97, 89, 136]</td>\n",
              "      <td>[89, 98, 133, 136]</td>\n",
              "      <td>[77, 111, 100, 143]</td>\n",
              "      <td>[67, 143, 110, 189]</td>\n",
              "    </tr>\n",
              "    <tr>\n",
              "      <th>3</th>\n",
              "      <td>000050.jpg</td>\n",
              "      <td>1058</td>\n",
              "      <td>./celeba/0/000050.jpg</td>\n",
              "      <td>[[38, 114], [39, 127], [40, 140], [42, 153], [...</td>\n",
              "      <td>1</td>\n",
              "      <td>[38, 99, 93, 138]</td>\n",
              "      <td>[93, 99, 129, 138]</td>\n",
              "      <td>[77, 112, 102, 145]</td>\n",
              "      <td>[67, 145, 111, 194]</td>\n",
              "    </tr>\n",
              "    <tr>\n",
              "      <th>4</th>\n",
              "      <td>000056.jpg</td>\n",
              "      <td>545</td>\n",
              "      <td>./celeba/0/000056.jpg</td>\n",
              "      <td>[[42, 115], [43, 126], [44, 138], [46, 148], [...</td>\n",
              "      <td>3</td>\n",
              "      <td>[42, 98, 97, 132]</td>\n",
              "      <td>[97, 96, 122, 132]</td>\n",
              "      <td>[78, 111, 100, 140]</td>\n",
              "      <td>[75, 140, 103, 178]</td>\n",
              "    </tr>\n",
              "    <tr>\n",
              "      <th>...</th>\n",
              "      <td>...</td>\n",
              "      <td>...</td>\n",
              "      <td>...</td>\n",
              "      <td>...</td>\n",
              "      <td>...</td>\n",
              "      <td>...</td>\n",
              "      <td>...</td>\n",
              "      <td>...</td>\n",
              "      <td>...</td>\n",
              "    </tr>\n",
              "    <tr>\n",
              "      <th>19038</th>\n",
              "      <td>202567.jpg</td>\n",
              "      <td>6246</td>\n",
              "      <td>./celeba/999/202567.jpg</td>\n",
              "      <td>[[45, 109], [45, 121], [46, 133], [47, 145], [...</td>\n",
              "      <td>968</td>\n",
              "      <td>[45, 101, 90, 129]</td>\n",
              "      <td>[90, 102, 121, 129]</td>\n",
              "      <td>[78, 109, 97, 138]</td>\n",
              "      <td>[78, 138, 98, 184]</td>\n",
              "    </tr>\n",
              "    <tr>\n",
              "      <th>19039</th>\n",
              "      <td>202569.jpg</td>\n",
              "      <td>7859</td>\n",
              "      <td>./celeba/999/202569.jpg</td>\n",
              "      <td>[[54, 109], [52, 119], [51, 130], [54, 141], [...</td>\n",
              "      <td>946</td>\n",
              "      <td>[54, 95, 75, 138]</td>\n",
              "      <td>[75, 99, 149, 138]</td>\n",
              "      <td>[75, 112, 99, 145]</td>\n",
              "      <td>[68, 145, 112, 193]</td>\n",
              "    </tr>\n",
              "    <tr>\n",
              "      <th>19040</th>\n",
              "      <td>202574.jpg</td>\n",
              "      <td>8234</td>\n",
              "      <td>./celeba/999/202574.jpg</td>\n",
              "      <td>[[39, 120], [40, 131], [41, 141], [44, 152], [...</td>\n",
              "      <td>906</td>\n",
              "      <td>[39, 96, 93, 127]</td>\n",
              "      <td>[93, 96, 123, 129]</td>\n",
              "      <td>[76, 110, 100, 136]</td>\n",
              "      <td>[74, 136, 104, 176]</td>\n",
              "    </tr>\n",
              "    <tr>\n",
              "      <th>19041</th>\n",
              "      <td>202589.jpg</td>\n",
              "      <td>7982</td>\n",
              "      <td>./celeba/999/202589.jpg</td>\n",
              "      <td>[[51, 115], [52, 126], [52, 137], [53, 148], [...</td>\n",
              "      <td>953</td>\n",
              "      <td>[51, 101, 82, 130]</td>\n",
              "      <td>[82, 98, 139, 130]</td>\n",
              "      <td>[77, 111, 101, 139]</td>\n",
              "      <td>[69, 139, 106, 188]</td>\n",
              "    </tr>\n",
              "    <tr>\n",
              "      <th>19042</th>\n",
              "      <td>202597.jpg</td>\n",
              "      <td>9852</td>\n",
              "      <td>./celeba/999/202597.jpg</td>\n",
              "      <td>[[37, 112], [38, 125], [39, 138], [41, 151], [...</td>\n",
              "      <td>907</td>\n",
              "      <td>[37, 100, 92, 139]</td>\n",
              "      <td>[92, 104, 133, 139]</td>\n",
              "      <td>[78, 113, 103, 145]</td>\n",
              "      <td>[68, 145, 108, 192]</td>\n",
              "    </tr>\n",
              "  </tbody>\n",
              "</table>\n",
              "<p>19043 rows × 9 columns</p>\n",
              "</div>"
            ],
            "text/plain": [
              "               id  identity  ...                 nose                mouth\n",
              "0      000024.jpg      9290  ...   [78, 107, 99, 131]  [71, 131, 104, 179]\n",
              "1      000041.jpg      1058  ...   [71, 109, 95, 152]  [66, 152, 105, 202]\n",
              "2      000043.jpg      5239  ...  [77, 111, 100, 143]  [67, 143, 110, 189]\n",
              "3      000050.jpg      1058  ...  [77, 112, 102, 145]  [67, 145, 111, 194]\n",
              "4      000056.jpg       545  ...  [78, 111, 100, 140]  [75, 140, 103, 178]\n",
              "...           ...       ...  ...                  ...                  ...\n",
              "19038  202567.jpg      6246  ...   [78, 109, 97, 138]   [78, 138, 98, 184]\n",
              "19039  202569.jpg      7859  ...   [75, 112, 99, 145]  [68, 145, 112, 193]\n",
              "19040  202574.jpg      8234  ...  [76, 110, 100, 136]  [74, 136, 104, 176]\n",
              "19041  202589.jpg      7982  ...  [77, 111, 101, 139]  [69, 139, 106, 188]\n",
              "19042  202597.jpg      9852  ...  [78, 113, 103, 145]  [68, 145, 108, 192]\n",
              "\n",
              "[19043 rows x 9 columns]"
            ]
          },
          "metadata": {},
          "execution_count": 4
        }
      ]
    },
    {
      "cell_type": "code",
      "metadata": {
        "id": "pVrkpJtmTjWL"
      },
      "source": [
        "def xy_set():\n",
        "  ds = pd.read_csv(\"https://raw.githubusercontent.com/arxrean/PartialFace/main/repo/celeba.csv?token=ARVBZLPD3PTRNCDNIWRUHD3BFF73W\")# The link of celeba.csv file on github, which should be updated\n",
        "  ds1 = ds[['id', 'identity', 'path', 'lm68', 'identity_idx', 'left_eye']].rename(columns = {\"left_eye\" : \"partial\"})\n",
        "  ds2 = ds[['id', 'identity', 'path', 'lm68', 'identity_idx', 'right_eye']].rename(columns = {\"right_eye\" : \"partial\"})\n",
        "  ds3 = ds[['id', 'identity', 'path', 'lm68', 'identity_idx', 'nose']].rename(columns = {\"nose\" : \"partial\"})\n",
        "  ds4 = ds[['id', 'identity', 'path', 'lm68', 'identity_idx', 'mouth']].rename(columns = {\"mouth\" : \"partial\"})\n",
        "  ds1[\"index\"] = 0\n",
        "  ds2[\"index\"] = 1\n",
        "  ds3[\"index\"] = 2\n",
        "  ds4[\"index\"] = 3\n",
        "  xy_dataset = pd.concat([ds1,ds2,ds3,ds4]).reset_index().drop(columns=\"level_0\")\n",
        "  return xy_dataset\n",
        "\n"
      ],
      "execution_count": 181,
      "outputs": []
    },
    {
      "cell_type": "code",
      "metadata": {
        "id": "TnDaByVgQ_JC"
      },
      "source": [
        "def dataset_for_modeling(baseline_dataset):\n",
        "  X_set = baseline_dataset[[\"partial\",\"index\"]]\n",
        "  Y_set = baseline_dataset[\"lm68\"]\n",
        "  x_set = pd.concat([X_set[\"index\"],X_set['partial'].str.replace(\"[\",\"\").str.replace(\"]\",\"\").str.split(',', expand=True)],axis=1)\n",
        "  y_set = pd.concat([Y_set.str.replace(\"[\",\"\").str.replace(\"]\",\"\").str.split(',', expand=True)], axis=1)\n",
        "  return x_set, y_set\n"
      ],
      "execution_count": null,
      "outputs": []
    },
    {
      "cell_type": "code",
      "metadata": {
        "id": "W9mqQbjVGrxF"
      },
      "source": [
        "baseline_dataset = pd.read_csv(\"dataset_for_modeling.csv\")"
      ],
      "execution_count": 28,
      "outputs": []
    },
    {
      "cell_type": "markdown",
      "metadata": {
        "id": "YBFyXdVkb_5N"
      },
      "source": [
        "# Model "
      ]
    },
    {
      "cell_type": "code",
      "metadata": {
        "id": "X0dfunGcbPUr"
      },
      "source": [
        "# X_train, X_test, y_train, y_test = train_test_split(x_set,y_set,test_size=0.3,random_state = 42)"
      ],
      "execution_count": 37,
      "outputs": []
    },
    {
      "cell_type": "code",
      "metadata": {
        "id": "XrOTVRtlKyG5"
      },
      "source": [
        "def model_Ridge():\n",
        "  x_set, y_set = dataset_for_modeling(xy_set())\n",
        "  X_train, X_test, y_train, y_test = train_test_split(x_set,y_set,test_size=0.3,random_state = 42)\n",
        "  model_ridge = MultiOutputRegressor(Ridge(random_state=123)).fit(X_train, y_train)\n",
        "  score = model_ridge.score(X_test, y_test)\n",
        "  print(model_ridge, score)\n",
        "  return model_ridge\n"
      ],
      "execution_count": null,
      "outputs": []
    },
    {
      "cell_type": "code",
      "metadata": {
        "id": "i9QLnR1mWTui"
      },
      "source": [
        "def model_LR():\n",
        "  x_set, y_set = dataset_for_modeling(xy_set())\n",
        "  X_train, X_test, y_train, y_test = train_test_split(x_set,y_set,test_size=0.3,random_state = 42)\n",
        "  model_lr = MultiOutputRegressor(LogisticRegression(random_state = 0)).fit(X_train, y_train)\n",
        "  score = model_lr.score(X_test, y_test)\n",
        "  print(model_lr, score)\n",
        "  return model_lr"
      ],
      "execution_count": null,
      "outputs": []
    },
    {
      "cell_type": "code",
      "metadata": {
        "id": "b7sxqfvVWT52"
      },
      "source": [
        "def model_svm():\n",
        "  x_set, y_set = dataset_for_modeling(xy_set())\n",
        "  X_train, X_test, y_train, y_test = train_test_split(x_set,y_set,test_size=0.3,random_state = 42)\n",
        "  model_svm = MultiOutputRegressor(LinearSVC(random_state=0, tol=1e-5)).fit(X_train, y_train)\n",
        "  score = model_svm.score(X_test, y_test)\n",
        "  print(model_svm, score)\n",
        "  return model_svm"
      ],
      "execution_count": null,
      "outputs": []
    },
    {
      "cell_type": "code",
      "metadata": {
        "id": "8bGxeCn0WUEn"
      },
      "source": [
        "def model_SGD():\n",
        "  x_set, y_set = dataset_for_modeling(xy_set())\n",
        "  X_train, X_test, y_train, y_test = train_test_split(x_set,y_set,test_size=0.3,random_state = 42)\n",
        "  model_sgd = MultiOutputRegressor(SGDClassifier(max_iter=500, tol=1e-3)).fit(X_train, y_train)\n",
        "  score = model_sgd.score(X_test, y_test)\n",
        "  print(model_sgd, score)\n",
        "  return model_sgd\n"
      ],
      "execution_count": null,
      "outputs": []
    },
    {
      "cell_type": "code",
      "metadata": {
        "id": "DjmQcteyXM8w"
      },
      "source": [
        "def model_NN():\n",
        "  x_set, y_set = dataset_for_modeling(xy_set())\n",
        "  X_train, X_test, y_train, y_test = train_test_split(x_set,y_set,test_size=0.3,random_state = 42)\n",
        "  model_nn = MultiOutputRegressor(MLPClassifier(random_state=1, max_iter=300)).fit(X_train, y_train)\n",
        "  score = model_nn.score(X_test, y_test)\n",
        "  print(model_nn, score)\n",
        "  return model_nn\n"
      ],
      "execution_count": null,
      "outputs": []
    },
    {
      "cell_type": "code",
      "metadata": {
        "id": "dj2Gp6RVTyk8"
      },
      "source": [
        "def predict():\n",
        "  index = input(\"Index:\")\n",
        "  left = input(\"Left:\")\n",
        "  top = input(\"Top:\")\n",
        "  right = input(\"Right:\")\n",
        "  bottom = input(\"Bottom:\")\n",
        "  input = [[index,left,top,right,bottom]]\n",
        "  for model in ()\n",
        "  output = model_Ridge().predict(input)\n",
        "  lm68 = np.narray(shape=(2,68),dtype = int)\n",
        "  print(\"lm68:\"+ lm68)\n",
        "  return lm68\n"
      ],
      "execution_count": null,
      "outputs": []
    },
    {
      "cell_type": "code",
      "metadata": {
        "colab": {
          "base_uri": "https://localhost:8080/"
        },
        "id": "qWwJ5kp_0ud2",
        "outputId": "8126db1f-4f47-4faa-bd65-46e34eb32ce8"
      },
      "source": [
        "# mor.predict([[3,73,145,105,177]])"
      ],
      "execution_count": 49,
      "outputs": [
        {
          "output_type": "execute_result",
          "data": {
            "text/plain": [
              "array([[ 47.27251783, 112.68129251,  47.84646888, 123.76235031,\n",
              "         49.3769744 , 134.69460828,  51.40893696, 145.47560205,\n",
              "         55.15783703, 155.7261085 ,  61.32609874, 164.73581782,\n",
              "         69.21891897, 172.38300676,  78.27738314, 178.68440066,\n",
              "         88.66481194, 180.44261223,  99.15538564, 178.7564937 ,\n",
              "        108.56093914, 172.67988869, 116.87715455, 165.20590829,\n",
              "        123.41322106, 156.23326691, 127.34830022, 145.91645707,\n",
              "        129.44523918, 134.93276545, 130.97922276, 123.80911249,\n",
              "        131.64514375, 112.50902742,  53.62484785, 106.22206344,\n",
              "         59.29685727, 102.33583925,  66.61246851, 101.91834927,\n",
              "         73.94241618, 103.32238133,  81.01590666, 106.10696137,\n",
              "         95.59344646, 105.9647135 , 102.87819488, 103.15298425,\n",
              "        110.40298314, 101.74459184, 117.92894919, 102.30557606,\n",
              "        123.85839429, 106.14511213,  88.34934372, 113.03061413,\n",
              "         88.28703874, 120.30621287,  88.21303436, 127.70432428,\n",
              "         88.14902601, 135.19417814,  80.5110005 , 139.44302905,\n",
              "         84.22209585, 140.95515359,  88.27976366, 142.30055585,\n",
              "         92.39910587, 140.95847514,  96.18427376, 139.51805716,\n",
              "         62.25767992, 113.1208674 ,  66.86237286, 110.37948875,\n",
              "         72.52861592, 110.59036809,  77.21111611, 114.4242863 ,\n",
              "         71.98554321, 115.34455837,  66.470765  , 115.27214953,\n",
              "         99.93663092, 114.43010451, 104.64150486, 110.58728438,\n",
              "        110.31002066, 110.44593921, 115.01274059, 113.16324707,\n",
              "        110.72804545, 115.26161561, 105.22029399, 115.33943262,\n",
              "         72.38113441, 152.38456144,  78.29392716, 150.25733355,\n",
              "         84.05425913, 149.15714527,  88.35560636, 150.22640149,\n",
              "         92.78027292, 149.17960732,  98.70520875, 150.30449023,\n",
              "        104.93473743, 152.34676149,  99.00588495, 158.00090695,\n",
              "         93.14388228, 160.44479743,  88.3671779 , 160.91097911,\n",
              "         83.6883185 , 160.44175049,  78.00436432, 158.0006661 ,\n",
              "         75.02301825, 152.9081284 ,  83.98008673, 152.79980527,\n",
              "         88.36600179, 153.26162368,  92.87066614, 152.78970449,\n",
              "        102.23710413, 152.82733588,  92.89762948, 154.76951874,\n",
              "         88.34834146, 155.30027154,  83.92229175, 154.74145658]])"
            ]
          },
          "metadata": {},
          "execution_count": 49
        }
      ]
    }
  ]
}